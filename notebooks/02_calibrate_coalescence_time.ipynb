{
  "cells": [
    {
      "cell_type": "markdown",
      "metadata": {},
      "source": [
        "# MASBotS — Coalescence-Time Calibration\n",
        "\n",
        "Purpose: Calibrate model parameters (α, β, f₀, …) so simulated time-to-coalescence matches observed.\n",
        "\n",
        "Out-of-scope: pixel→meter, spatial trajectory fitting, MPC (handled elsewhere).\n"
      ]
    },
    {
      "cell_type": "code",
      "execution_count": null,
      "metadata": {},
      "outputs": [],
      "source": [
        "%load_ext autoreload\n",
        "%autoreload 2\n",
        "\n",
        "from pathlib import Path\n",
        "import numpy as np, pandas as pd\n",
        "import matplotlib.pyplot as plt\n",
        "\n",
        "import sys\n",
        "ROOT = Path().resolve().parents[1] if (Path().resolve().name == \"notebooks\") else Path().resolve()\n",
        "sys.path.append(str(ROOT / \"src\"))\n",
        "\n",
        "from data_io import load_runs\n",
        "from metrics import time_to_coalescence_from_df\n",
        "from objective import objective_time_error\n",
        "from optimize import run_global_optimization\n",
        "from model_params import save_calibrated_params\n",
        "from sim import SimNotWiredError\n"
      ]
    },
    {
      "cell_type": "code",
      "execution_count": null,
      "metadata": {},
      "outputs": [],
      "source": [
        "CONF = {\n",
        "    \"data_dir\": str(ROOT / \"data\" / \"raw\"),\n",
        "    \"fps\": 30.0,\n",
        "    \"dt\": 0.05,\n",
        "    \"T\": 100.0,\n",
        "    \"radius_threshold_m\": 0.25,\n",
        "    \"dwell_time_s\": 1.0,\n",
        "    \"bounds\": {\n",
        "        \"alpha\": (0.0, 1.0),\n",
        "        \"beta\":  (0.0, 1.0),\n",
        "        \"f0\":    (0.0, 2.0)\n",
        "    },\n",
        "    \"max_iter\": 60,\n",
        "    \"seed\": 42,\n",
        "    \"export_path\": str(ROOT / \"configs\" / \"calibrated_params.json\")\n",
        "}\n"
      ]
    },
    {
      "cell_type": "code",
      "execution_count": null,
      "metadata": {},
      "outputs": [],
      "source": [
        "from pathlib import Path\n",
        "\n",
        "runs = load_runs(Path(CONF[\"data_dir\"]))\n",
        "len(runs), [r[\"run_id\"] for r in runs[:3]]\n"
      ]
    },
    {
      "cell_type": "code",
      "execution_count": null,
      "metadata": {},
      "outputs": [],
      "source": [
        "# Wiring helpers for IC and inputs\n",
        "# These MUST reconstruct the initial state and inputs for the sim from each CSV. Keep minimal but explicit.\n",
        "\n",
        "import numpy as np\n",
        "import pandas as pd\n",
        "\n",
        "def initial_state_builder(df: pd.DataFrame) -> np.ndarray:\n",
        "    # Use the first frame as initial state.\n",
        "    # State layout must match your simulator exactly (e.g., [x1,y1,x2,y2,...]).\n",
        "    f0 = df[\"frame\"].min()\n",
        "    d0 = df[df[\"frame\"]==f0].sort_values(\"bot_id\")\n",
        "    X0 = d0[[\"x\",\"y\"]].values.reshape(-1)  # meters\n",
        "    return X0.astype(float)\n",
        "\n",
        "\n",
        "def input_builder(df: pd.DataFrame, dt: float, T: float) -> np.ndarray:\n",
        "    # Build per-bot input over time (e.g., spin rates); constant if unavailable.\n",
        "    n_steps = int(T/dt) + 1\n",
        "    n_bots = df[\"bot_id\"].nunique()\n",
        "    U = np.zeros((n_steps, n_bots), dtype=float)\n",
        "    # TODO: replace with real input reconstruction when available.\n",
        "    return U\n"
      ]
    },
    {
      "cell_type": "code",
      "execution_count": null,
      "metadata": {},
      "outputs": [],
      "source": [
        "def make_loss():\n",
        "    def loss_fn(params_dict):\n",
        "        return objective_time_error(\n",
        "            params=params_dict,\n",
        "            runs=runs,\n",
        "            fps=CONF[\"fps\"],\n",
        "            dt=CONF[\"dt\"],\n",
        "            T=CONF[\"T\"],\n",
        "            radius_threshold_m=CONF[\"radius_threshold_m\"],\n",
        "            dwell_time_s=CONF[\"dwell_time_s\"],\n",
        "            initial_state_builder=initial_state_builder,\n",
        "            input_builder=input_builder\n",
        "        )\n",
        "    return loss_fn\n",
        "\n",
        "loss = make_loss()\n"
      ]
    },
    {
      "cell_type": "code",
      "execution_count": null,
      "metadata": {},
      "outputs": [],
      "source": [
        "try:\n",
        "    _ = loss({\"alpha\":0.1,\"beta\":0.01,\"f0\":0.2})\n",
        "    print(\"Loss function callable. (If this fails, wire src/sim.py to your sim.)\")\n",
        "except SimNotWiredError as e:\n",
        "    print(\"Simulation not wired yet:\", e)\n"
      ]
    },
    {
      "cell_type": "code",
      "execution_count": null,
      "metadata": {},
      "outputs": [],
      "source": [
        "best = run_global_optimization(\n",
        "    loss_fn=loss,\n",
        "    bounds=CONF[\"bounds\"],\n",
        "    max_iter=CONF[\"max_iter\"],\n",
        "    seed=CONF[\"seed\"]\n",
        ")\n",
        "best\n"
      ]
    },
    {
      "cell_type": "code",
      "execution_count": null,
      "metadata": {},
      "outputs": [],
      "source": [
        "PARAMS = {k: v for k, v in best.items() if k in CONF[\"bounds\"].keys()}\n",
        "META = {\n",
        "    \"radius_threshold_m\": CONF[\"radius_threshold_m\"],\n",
        "    \"dwell_time_s\": CONF[\"dwell_time_s\"],\n",
        "    \"fps\": CONF[\"fps\"],\n",
        "    \"dt\": CONF[\"dt\"],\n",
        "    \"T\": CONF[\"T\"],\n",
        "    \"bounds\": CONF[\"bounds\"],\n",
        "    \"optimizer\": \"scipy.differential_evolution\",\n",
        "    \"runs_used\": [r[\"run_id\"] for r in runs]\n",
        "}\n",
        "save_calibrated_params(Path(CONF[\"export_path\"]), PARAMS, META)\n",
        "print(\"Saved:\", CONF[\"export_path\"])\n"
      ]
    },
    {
      "cell_type": "code",
      "execution_count": null,
      "metadata": {},
      "outputs": [],
      "source": [
        "# Minimal reporting (after wiring)\n",
        "import pandas as pd\n",
        "from sim import simulate_swarm_time_to_coalescence\n",
        "\n",
        "rows = []\n",
        "for run in runs[:5]:\n",
        "    df = run[\"df\"]\n",
        "    obs = time_to_coalescence_from_df(df, CONF[\"radius_threshold_m\"], CONF[\"dwell_time_s\"], CONF[\"fps\"])\n",
        "    X0 = initial_state_builder(df)\n",
        "    U  = input_builder(df, CONF[\"dt\"], CONF[\"T\"])\n",
        "    sim = simulate_swarm_time_to_coalescence(\n",
        "        params=PARAMS, initial_state=X0, inputs=U,\n",
        "        dt=CONF[\"dt\"], T=CONF[\"T\"],\n",
        "        radius_threshold_m=CONF[\"radius_threshold_m\"],\n",
        "        dwell_time_s=CONF[\"dwell_time_s\"]\n",
        "    )\n",
        "    rows.append({\"run_id\": run[\"run_id\"], \"obs_t_s\": obs, \"sim_t_s\": sim})\n",
        "report = pd.DataFrame(rows)\n",
        "report.to_csv(Path(ROOT/\"results\"/\"coalescence_times_sample.csv\"), index=False)\n",
        "report\n"
      ]
    },
    {
      "cell_type": "markdown",
      "metadata": {},
      "source": [
        "## Notes\n",
        "\n",
        "Assumptions, bounds, threshold/dwell definitions, what’s exported, next steps.\n",
        "\n",
        "- We calibrate only coalescence time; no pixel→meter, no MPC.\n",
        "- Deterministic seeds and `CONF` live at the top; exports are versioned.\n",
        "- `configs/calibrated_params.json` includes commit hash and dataset summary.\n",
        "- CSV schema requires columns: `frame, bot_id, x, y` in meters.\n",
        "- `SimNotWiredError` protects against using the notebook before the sim is wired.\n",
        "- Save small figures to `figs/` and tables to `results/` to keep Git light.\n",
        "- Downstream notebooks should load params via `model_params.load_calibrated_params`.\n"
      ]
    }
  ],
  "metadata": {
    "language_info": {
      "name": "python"
    }
  },
  "nbformat": 4,
  "nbformat_minor": 2
}
